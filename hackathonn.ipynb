{
 "cells": [
  {
   "cell_type": "code",
   "execution_count": 2,
   "id": "47206deb",
   "metadata": {},
   "outputs": [],
   "source": [
    "import pandas as pd\n",
    "from sklearn.model_selection import train_test_split\n",
    "from sklearn.preprocessing import LabelEncoder\n",
    "from sklearn.neural_network import MLPClassifier\n",
    "from sklearn.impute import SimpleImputer\n",
    "\n",
    "# Load the data\n",
    "train_data = pd.read_csv(r\"C:\\Users\\91790\\Downloads\\Train_Data.csv\")\n",
    "test_data = pd.read_csv(r\"C:\\Users\\91790\\Downloads\\Test_Data.csv\")\n",
    "\n",
    "# Perform label encoding for the target variable\n",
    "label_encoder = LabelEncoder()\n",
    "train_data['Healthy'] = label_encoder.fit_transform(train_data['Healthy'])\n",
    "\n",
    "# Perform one-hot encoding on categorical variables\n",
    "train_data = pd.get_dummies(train_data, columns=['Smoker?', 'Living in?'])\n",
    "test_data = pd.get_dummies(test_data, columns=['Smoker?', 'Living in?'])\n",
    "\n",
    "# Split the data into input features and the target variable\n",
    "X = train_data.drop(['Healthy', 'Food preference', 'ID2', 'ID1','Any heriditary condition?'], axis=1)\n",
    "y = train_data['Healthy']\n",
    "\n",
    "# Split the data into training and validation sets\n",
    "X_train, X_val, y_train, y_val = train_test_split(X, y, test_size=0.2, random_state=42)\n",
    "\n",
    "# Impute missing values with the mean\n",
    "imputer = SimpleImputer(strategy='mean')\n",
    "X_train_imputed = imputer.fit_transform(X_train)\n",
    "X_val_imputed = imputer.transform(X_val)\n",
    "\n",
    "# Define the MLP classifier\n",
    "mlp_classifier = MLPClassifier(hidden_layer_sizes=(64, 64), activation='relu', solver='adam', random_state=42)\n",
    "\n",
    "# Train the MLP classifier\n",
    "mlp_classifier.fit(X_train_imputed, y_train)\n",
    "\n",
    "# Predict the target variable for the test data\n",
    "y_val_predicted = mlp_classifier.predict(X_val_imputed)\n",
    "\n",
    "# Prepare the input features for the test data\n",
    "X_test = test_data.drop(['Food preference', 'ID2', 'ID1','Any heriditary condition?'], axis=1)\n",
    "\n",
    "# Impute missing values in the test data\n",
    "X_test_imputed = imputer.transform(X_test)\n",
    "\n",
    "# Predict the target variable for the test data\n",
    "y_test_predicted = mlp_classifier.predict(X_test_imputed)\n",
    "\n",
    "\n",
    "predictions = pd.DataFrame({'lifestyle_predicted': y_test_predicted})\n",
    "predictions['lifestyle_predicted'] = predictions['lifestyle_predicted'].map({1:1, 0:0})\n",
    "\n",
    "predictions = predictions.reset_index(drop=True)\n",
    "submission = pd.DataFrame({'predictions': predictions['lifestyle_predicted'].values.flatten()})\n",
    "submission.to_csv('submission1.csv', index=False)"
   ]
  },
  {
   "cell_type": "code",
   "execution_count": null,
   "id": "bfee49d9",
   "metadata": {},
   "outputs": [],
   "source": []
  }
 ],
 "metadata": {
  "kernelspec": {
   "display_name": "Python 3 (ipykernel)",
   "language": "python",
   "name": "python3"
  },
  "language_info": {
   "codemirror_mode": {
    "name": "ipython",
    "version": 3
   },
   "file_extension": ".py",
   "mimetype": "text/x-python",
   "name": "python",
   "nbconvert_exporter": "python",
   "pygments_lexer": "ipython3",
   "version": "3.10.9"
  }
 },
 "nbformat": 4,
 "nbformat_minor": 5
}
